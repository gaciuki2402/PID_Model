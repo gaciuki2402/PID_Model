{
  "nbformat": 4,
  "nbformat_minor": 0,
  "metadata": {
    "colab": {
      "provenance": [],
      "authorship_tag": "ABX9TyPPED7//paZMAmejTAt/K0j",
      "include_colab_link": true
    },
    "kernelspec": {
      "name": "python3",
      "display_name": "Python 3"
    },
    "language_info": {
      "name": "python"
    }
  },
  "cells": [
    {
      "cell_type": "markdown",
      "metadata": {
        "id": "view-in-github",
        "colab_type": "text"
      },
      "source": [
        "<a href=\"https://colab.research.google.com/github/gaciuki2402/PID_Model/blob/main/PID.ipynb\" target=\"_parent\"><img src=\"https://colab.research.google.com/assets/colab-badge.svg\" alt=\"Open In Colab\"/></a>"
      ]
    },
    {
      "cell_type": "code",
      "execution_count": 23,
      "metadata": {
        "colab": {
          "base_uri": "https://localhost:8080/"
        },
        "id": "PtvOPdp6D-QY",
        "outputId": "e8ea634b-f8a3-4ed1-fb28-32d6a007eb86"
      },
      "outputs": [
        {
          "output_type": "stream",
          "name": "stdout",
          "text": [
            "Drive already mounted at /content/drive; to attempt to forcibly remount, call drive.mount(\"/content/drive\", force_remount=True).\n"
          ]
        }
      ],
      "source": [
        "from google.colab import drive\n",
        "drive.mount(\"/content/drive\")\n"
      ]
    },
    {
      "cell_type": "markdown",
      "source": [
        "**Importing libraries**"
      ],
      "metadata": {
        "id": "1JhghIPW-HxZ"
      }
    },
    {
      "cell_type": "code",
      "source": [
        "import pandas as pd\n",
        "import numpy as np\n",
        "from sklearn.model_selection import train_test_split\n",
        "from sklearn.preprocessing import OneHotEncoder, StandardScaler\n",
        "from sklearn.impute import SimpleImputer\n",
        "from sklearn.compose import ColumnTransformer\n",
        "from sklearn.pipeline import Pipeline\n",
        "from sklearn.linear_model import LogisticRegression\n",
        "from sklearn.tree import DecisionTreeClassifier\n",
        "from sklearn.ensemble import RandomForestClassifier\n",
        "from sklearn.metrics import accuracy_score, classification_report,confusion_matrix, ConfusionMatrixDisplay, precision_score, recall_score, f1_score, roc_auc_score\n",
        "import matplotlib.pyplot as plt"
      ],
      "metadata": {
        "id": "WsJqkou4FUz8"
      },
      "execution_count": 24,
      "outputs": []
    },
    {
      "cell_type": "markdown",
      "source": [
        "**Loading Dataset**"
      ],
      "metadata": {
        "id": "0M_Ny-Os-OQ8"
      }
    },
    {
      "cell_type": "code",
      "source": [
        "data =pd.read_csv(\"/content/drive/MyDrive/PID.csv\")"
      ],
      "metadata": {
        "id": "nJwk6WJIFVLc"
      },
      "execution_count": 25,
      "outputs": []
    },
    {
      "cell_type": "code",
      "source": [
        "data.head()"
      ],
      "metadata": {
        "colab": {
          "base_uri": "https://localhost:8080/",
          "height": 434
        },
        "id": "t7coJgjVM_YD",
        "outputId": "1515e837-2bf7-420e-ce33-c2a26b11b611"
      },
      "execution_count": 26,
      "outputs": [
        {
          "output_type": "execute_result",
          "data": {
            "text/plain": [
              "  Patient ID  Age        Race   STDs/UTI History IUD Use Past Pelvic Pain  \\\n",
              "0       P001   25       White                 No     Yes               No   \n",
              "1       P002   30       Black  Yes (2 years ago)      No              Yes   \n",
              "2       P003   35       Asian                 No     Yes              Yes   \n",
              "3       P004   28    Hispanic                 No      No               No   \n",
              "4       P005   33  Indigenous      Yes (current)     Yes               No   \n",
              "\n",
              "           Imaging Results                Abnormal Discharge Fever Onset  \\\n",
              "0              Normal (US)                               NaN   5/10/2025   \n",
              "1  Adnexal tenderness (US)                  Yellow discharge   4/20/2025   \n",
              "2    Pelvic adhesions (US)   Brown discharge, heavy bleeding         NaN   \n",
              "3              Normal (US)  White, clumpy discharge, itching         NaN   \n",
              "4              Normal (US)                               NaN         NaN   \n",
              "\n",
              "  Irregular Periods Dyspareunia Dysuria WBC Count       ESR  \\\n",
              "0                No         Yes      No    Normal    Normal   \n",
              "1               Yes         Yes     Yes  Elevated  Elevated   \n",
              "2         Irregular         Yes     Yes      High      High   \n",
              "3           Regular          No      No    Normal    Normal   \n",
              "4           Regular          No      No    Normal    Normal   \n",
              "\n",
              "           CRP Level PID Diagnosis  \n",
              "0             Normal      Negative  \n",
              "1  Slightly Elevated      Positive  \n",
              "2               High      Positive  \n",
              "3             Normal      Negative  \n",
              "4             Normal      Negative  "
            ],
            "text/html": [
              "\n",
              "  <div id=\"df-ac52bec4-ab67-4821-9e23-6fbbf39b306f\" class=\"colab-df-container\">\n",
              "    <div>\n",
              "<style scoped>\n",
              "    .dataframe tbody tr th:only-of-type {\n",
              "        vertical-align: middle;\n",
              "    }\n",
              "\n",
              "    .dataframe tbody tr th {\n",
              "        vertical-align: top;\n",
              "    }\n",
              "\n",
              "    .dataframe thead th {\n",
              "        text-align: right;\n",
              "    }\n",
              "</style>\n",
              "<table border=\"1\" class=\"dataframe\">\n",
              "  <thead>\n",
              "    <tr style=\"text-align: right;\">\n",
              "      <th></th>\n",
              "      <th>Patient ID</th>\n",
              "      <th>Age</th>\n",
              "      <th>Race</th>\n",
              "      <th>STDs/UTI History</th>\n",
              "      <th>IUD Use</th>\n",
              "      <th>Past Pelvic Pain</th>\n",
              "      <th>Imaging Results</th>\n",
              "      <th>Abnormal Discharge</th>\n",
              "      <th>Fever Onset</th>\n",
              "      <th>Irregular Periods</th>\n",
              "      <th>Dyspareunia</th>\n",
              "      <th>Dysuria</th>\n",
              "      <th>WBC Count</th>\n",
              "      <th>ESR</th>\n",
              "      <th>CRP Level</th>\n",
              "      <th>PID Diagnosis</th>\n",
              "    </tr>\n",
              "  </thead>\n",
              "  <tbody>\n",
              "    <tr>\n",
              "      <th>0</th>\n",
              "      <td>P001</td>\n",
              "      <td>25</td>\n",
              "      <td>White</td>\n",
              "      <td>No</td>\n",
              "      <td>Yes</td>\n",
              "      <td>No</td>\n",
              "      <td>Normal (US)</td>\n",
              "      <td>NaN</td>\n",
              "      <td>5/10/2025</td>\n",
              "      <td>No</td>\n",
              "      <td>Yes</td>\n",
              "      <td>No</td>\n",
              "      <td>Normal</td>\n",
              "      <td>Normal</td>\n",
              "      <td>Normal</td>\n",
              "      <td>Negative</td>\n",
              "    </tr>\n",
              "    <tr>\n",
              "      <th>1</th>\n",
              "      <td>P002</td>\n",
              "      <td>30</td>\n",
              "      <td>Black</td>\n",
              "      <td>Yes (2 years ago)</td>\n",
              "      <td>No</td>\n",
              "      <td>Yes</td>\n",
              "      <td>Adnexal tenderness (US)</td>\n",
              "      <td>Yellow discharge</td>\n",
              "      <td>4/20/2025</td>\n",
              "      <td>Yes</td>\n",
              "      <td>Yes</td>\n",
              "      <td>Yes</td>\n",
              "      <td>Elevated</td>\n",
              "      <td>Elevated</td>\n",
              "      <td>Slightly Elevated</td>\n",
              "      <td>Positive</td>\n",
              "    </tr>\n",
              "    <tr>\n",
              "      <th>2</th>\n",
              "      <td>P003</td>\n",
              "      <td>35</td>\n",
              "      <td>Asian</td>\n",
              "      <td>No</td>\n",
              "      <td>Yes</td>\n",
              "      <td>Yes</td>\n",
              "      <td>Pelvic adhesions (US)</td>\n",
              "      <td>Brown discharge, heavy bleeding</td>\n",
              "      <td>NaN</td>\n",
              "      <td>Irregular</td>\n",
              "      <td>Yes</td>\n",
              "      <td>Yes</td>\n",
              "      <td>High</td>\n",
              "      <td>High</td>\n",
              "      <td>High</td>\n",
              "      <td>Positive</td>\n",
              "    </tr>\n",
              "    <tr>\n",
              "      <th>3</th>\n",
              "      <td>P004</td>\n",
              "      <td>28</td>\n",
              "      <td>Hispanic</td>\n",
              "      <td>No</td>\n",
              "      <td>No</td>\n",
              "      <td>No</td>\n",
              "      <td>Normal (US)</td>\n",
              "      <td>White, clumpy discharge, itching</td>\n",
              "      <td>NaN</td>\n",
              "      <td>Regular</td>\n",
              "      <td>No</td>\n",
              "      <td>No</td>\n",
              "      <td>Normal</td>\n",
              "      <td>Normal</td>\n",
              "      <td>Normal</td>\n",
              "      <td>Negative</td>\n",
              "    </tr>\n",
              "    <tr>\n",
              "      <th>4</th>\n",
              "      <td>P005</td>\n",
              "      <td>33</td>\n",
              "      <td>Indigenous</td>\n",
              "      <td>Yes (current)</td>\n",
              "      <td>Yes</td>\n",
              "      <td>No</td>\n",
              "      <td>Normal (US)</td>\n",
              "      <td>NaN</td>\n",
              "      <td>NaN</td>\n",
              "      <td>Regular</td>\n",
              "      <td>No</td>\n",
              "      <td>No</td>\n",
              "      <td>Normal</td>\n",
              "      <td>Normal</td>\n",
              "      <td>Normal</td>\n",
              "      <td>Negative</td>\n",
              "    </tr>\n",
              "  </tbody>\n",
              "</table>\n",
              "</div>\n",
              "    <div class=\"colab-df-buttons\">\n",
              "\n",
              "  <div class=\"colab-df-container\">\n",
              "    <button class=\"colab-df-convert\" onclick=\"convertToInteractive('df-ac52bec4-ab67-4821-9e23-6fbbf39b306f')\"\n",
              "            title=\"Convert this dataframe to an interactive table.\"\n",
              "            style=\"display:none;\">\n",
              "\n",
              "  <svg xmlns=\"http://www.w3.org/2000/svg\" height=\"24px\" viewBox=\"0 -960 960 960\">\n",
              "    <path d=\"M120-120v-720h720v720H120Zm60-500h600v-160H180v160Zm220 220h160v-160H400v160Zm0 220h160v-160H400v160ZM180-400h160v-160H180v160Zm440 0h160v-160H620v160ZM180-180h160v-160H180v160Zm440 0h160v-160H620v160Z\"/>\n",
              "  </svg>\n",
              "    </button>\n",
              "\n",
              "  <style>\n",
              "    .colab-df-container {\n",
              "      display:flex;\n",
              "      gap: 12px;\n",
              "    }\n",
              "\n",
              "    .colab-df-convert {\n",
              "      background-color: #E8F0FE;\n",
              "      border: none;\n",
              "      border-radius: 50%;\n",
              "      cursor: pointer;\n",
              "      display: none;\n",
              "      fill: #1967D2;\n",
              "      height: 32px;\n",
              "      padding: 0 0 0 0;\n",
              "      width: 32px;\n",
              "    }\n",
              "\n",
              "    .colab-df-convert:hover {\n",
              "      background-color: #E2EBFA;\n",
              "      box-shadow: 0px 1px 2px rgba(60, 64, 67, 0.3), 0px 1px 3px 1px rgba(60, 64, 67, 0.15);\n",
              "      fill: #174EA6;\n",
              "    }\n",
              "\n",
              "    .colab-df-buttons div {\n",
              "      margin-bottom: 4px;\n",
              "    }\n",
              "\n",
              "    [theme=dark] .colab-df-convert {\n",
              "      background-color: #3B4455;\n",
              "      fill: #D2E3FC;\n",
              "    }\n",
              "\n",
              "    [theme=dark] .colab-df-convert:hover {\n",
              "      background-color: #434B5C;\n",
              "      box-shadow: 0px 1px 3px 1px rgba(0, 0, 0, 0.15);\n",
              "      filter: drop-shadow(0px 1px 2px rgba(0, 0, 0, 0.3));\n",
              "      fill: #FFFFFF;\n",
              "    }\n",
              "  </style>\n",
              "\n",
              "    <script>\n",
              "      const buttonEl =\n",
              "        document.querySelector('#df-ac52bec4-ab67-4821-9e23-6fbbf39b306f button.colab-df-convert');\n",
              "      buttonEl.style.display =\n",
              "        google.colab.kernel.accessAllowed ? 'block' : 'none';\n",
              "\n",
              "      async function convertToInteractive(key) {\n",
              "        const element = document.querySelector('#df-ac52bec4-ab67-4821-9e23-6fbbf39b306f');\n",
              "        const dataTable =\n",
              "          await google.colab.kernel.invokeFunction('convertToInteractive',\n",
              "                                                    [key], {});\n",
              "        if (!dataTable) return;\n",
              "\n",
              "        const docLinkHtml = 'Like what you see? Visit the ' +\n",
              "          '<a target=\"_blank\" href=https://colab.research.google.com/notebooks/data_table.ipynb>data table notebook</a>'\n",
              "          + ' to learn more about interactive tables.';\n",
              "        element.innerHTML = '';\n",
              "        dataTable['output_type'] = 'display_data';\n",
              "        await google.colab.output.renderOutput(dataTable, element);\n",
              "        const docLink = document.createElement('div');\n",
              "        docLink.innerHTML = docLinkHtml;\n",
              "        element.appendChild(docLink);\n",
              "      }\n",
              "    </script>\n",
              "  </div>\n",
              "\n",
              "\n",
              "<div id=\"df-c4cbe4e8-709c-43bd-8d85-2d5e2fb7ed9e\">\n",
              "  <button class=\"colab-df-quickchart\" onclick=\"quickchart('df-c4cbe4e8-709c-43bd-8d85-2d5e2fb7ed9e')\"\n",
              "            title=\"Suggest charts\"\n",
              "            style=\"display:none;\">\n",
              "\n",
              "<svg xmlns=\"http://www.w3.org/2000/svg\" height=\"24px\"viewBox=\"0 0 24 24\"\n",
              "     width=\"24px\">\n",
              "    <g>\n",
              "        <path d=\"M19 3H5c-1.1 0-2 .9-2 2v14c0 1.1.9 2 2 2h14c1.1 0 2-.9 2-2V5c0-1.1-.9-2-2-2zM9 17H7v-7h2v7zm4 0h-2V7h2v10zm4 0h-2v-4h2v4z\"/>\n",
              "    </g>\n",
              "</svg>\n",
              "  </button>\n",
              "\n",
              "<style>\n",
              "  .colab-df-quickchart {\n",
              "      --bg-color: #E8F0FE;\n",
              "      --fill-color: #1967D2;\n",
              "      --hover-bg-color: #E2EBFA;\n",
              "      --hover-fill-color: #174EA6;\n",
              "      --disabled-fill-color: #AAA;\n",
              "      --disabled-bg-color: #DDD;\n",
              "  }\n",
              "\n",
              "  [theme=dark] .colab-df-quickchart {\n",
              "      --bg-color: #3B4455;\n",
              "      --fill-color: #D2E3FC;\n",
              "      --hover-bg-color: #434B5C;\n",
              "      --hover-fill-color: #FFFFFF;\n",
              "      --disabled-bg-color: #3B4455;\n",
              "      --disabled-fill-color: #666;\n",
              "  }\n",
              "\n",
              "  .colab-df-quickchart {\n",
              "    background-color: var(--bg-color);\n",
              "    border: none;\n",
              "    border-radius: 50%;\n",
              "    cursor: pointer;\n",
              "    display: none;\n",
              "    fill: var(--fill-color);\n",
              "    height: 32px;\n",
              "    padding: 0;\n",
              "    width: 32px;\n",
              "  }\n",
              "\n",
              "  .colab-df-quickchart:hover {\n",
              "    background-color: var(--hover-bg-color);\n",
              "    box-shadow: 0 1px 2px rgba(60, 64, 67, 0.3), 0 1px 3px 1px rgba(60, 64, 67, 0.15);\n",
              "    fill: var(--button-hover-fill-color);\n",
              "  }\n",
              "\n",
              "  .colab-df-quickchart-complete:disabled,\n",
              "  .colab-df-quickchart-complete:disabled:hover {\n",
              "    background-color: var(--disabled-bg-color);\n",
              "    fill: var(--disabled-fill-color);\n",
              "    box-shadow: none;\n",
              "  }\n",
              "\n",
              "  .colab-df-spinner {\n",
              "    border: 2px solid var(--fill-color);\n",
              "    border-color: transparent;\n",
              "    border-bottom-color: var(--fill-color);\n",
              "    animation:\n",
              "      spin 1s steps(1) infinite;\n",
              "  }\n",
              "\n",
              "  @keyframes spin {\n",
              "    0% {\n",
              "      border-color: transparent;\n",
              "      border-bottom-color: var(--fill-color);\n",
              "      border-left-color: var(--fill-color);\n",
              "    }\n",
              "    20% {\n",
              "      border-color: transparent;\n",
              "      border-left-color: var(--fill-color);\n",
              "      border-top-color: var(--fill-color);\n",
              "    }\n",
              "    30% {\n",
              "      border-color: transparent;\n",
              "      border-left-color: var(--fill-color);\n",
              "      border-top-color: var(--fill-color);\n",
              "      border-right-color: var(--fill-color);\n",
              "    }\n",
              "    40% {\n",
              "      border-color: transparent;\n",
              "      border-right-color: var(--fill-color);\n",
              "      border-top-color: var(--fill-color);\n",
              "    }\n",
              "    60% {\n",
              "      border-color: transparent;\n",
              "      border-right-color: var(--fill-color);\n",
              "    }\n",
              "    80% {\n",
              "      border-color: transparent;\n",
              "      border-right-color: var(--fill-color);\n",
              "      border-bottom-color: var(--fill-color);\n",
              "    }\n",
              "    90% {\n",
              "      border-color: transparent;\n",
              "      border-bottom-color: var(--fill-color);\n",
              "    }\n",
              "  }\n",
              "</style>\n",
              "\n",
              "  <script>\n",
              "    async function quickchart(key) {\n",
              "      const quickchartButtonEl =\n",
              "        document.querySelector('#' + key + ' button');\n",
              "      quickchartButtonEl.disabled = true;  // To prevent multiple clicks.\n",
              "      quickchartButtonEl.classList.add('colab-df-spinner');\n",
              "      try {\n",
              "        const charts = await google.colab.kernel.invokeFunction(\n",
              "            'suggestCharts', [key], {});\n",
              "      } catch (error) {\n",
              "        console.error('Error during call to suggestCharts:', error);\n",
              "      }\n",
              "      quickchartButtonEl.classList.remove('colab-df-spinner');\n",
              "      quickchartButtonEl.classList.add('colab-df-quickchart-complete');\n",
              "    }\n",
              "    (() => {\n",
              "      let quickchartButtonEl =\n",
              "        document.querySelector('#df-c4cbe4e8-709c-43bd-8d85-2d5e2fb7ed9e button');\n",
              "      quickchartButtonEl.style.display =\n",
              "        google.colab.kernel.accessAllowed ? 'block' : 'none';\n",
              "    })();\n",
              "  </script>\n",
              "</div>\n",
              "\n",
              "    </div>\n",
              "  </div>\n"
            ],
            "application/vnd.google.colaboratory.intrinsic+json": {
              "type": "dataframe",
              "variable_name": "data",
              "summary": "{\n  \"name\": \"data\",\n  \"rows\": 519,\n  \"fields\": [\n    {\n      \"column\": \"Patient ID\",\n      \"properties\": {\n        \"dtype\": \"string\",\n        \"num_unique_values\": 489,\n        \"samples\": [\n          \"P493\",\n          \"P086\",\n          \"P476\"\n        ],\n        \"semantic_type\": \"\",\n        \"description\": \"\"\n      }\n    },\n    {\n      \"column\": \"Age\",\n      \"properties\": {\n        \"dtype\": \"number\",\n        \"std\": 3,\n        \"min\": 18,\n        \"max\": 45,\n        \"num_unique_values\": 26,\n        \"samples\": [\n          31,\n          19,\n          25\n        ],\n        \"semantic_type\": \"\",\n        \"description\": \"\"\n      }\n    },\n    {\n      \"column\": \"Race\",\n      \"properties\": {\n        \"dtype\": \"category\",\n        \"num_unique_values\": 9,\n        \"samples\": [\n          \"African\",\n          \"Black\",\n          \"Latina\"\n        ],\n        \"semantic_type\": \"\",\n        \"description\": \"\"\n      }\n    },\n    {\n      \"column\": \"STDs/UTI History\",\n      \"properties\": {\n        \"dtype\": \"category\",\n        \"num_unique_values\": 10,\n        \"samples\": [\n          \"Bacterial Vaginosis (BV)\",\n          \"Yes (2 years ago)\",\n          \"Yes (1 year ago)\"\n        ],\n        \"semantic_type\": \"\",\n        \"description\": \"\"\n      }\n    },\n    {\n      \"column\": \"IUD Use\",\n      \"properties\": {\n        \"dtype\": \"category\",\n        \"num_unique_values\": 15,\n        \"samples\": [\n          \"Yes (4 years ago)\",\n          \"Yes (removed 1 year ago)\",\n          \"Yes\"\n        ],\n        \"semantic_type\": \"\",\n        \"description\": \"\"\n      }\n    },\n    {\n      \"column\": \"Past Pelvic Pain\",\n      \"properties\": {\n        \"dtype\": \"category\",\n        \"num_unique_values\": 12,\n        \"samples\": [\n          \"Yes (6 years ago)\",\n          \"No (removed 1 year ago)\",\n          \"No\"\n        ],\n        \"semantic_type\": \"\",\n        \"description\": \"\"\n      }\n    },\n    {\n      \"column\": \"Imaging Results\",\n      \"properties\": {\n        \"dtype\": \"category\",\n        \"num_unique_values\": 3,\n        \"samples\": [\n          \"Normal (US)\",\n          \"Adnexal tenderness (US)\",\n          \"Pelvic adhesions (US)\"\n        ],\n        \"semantic_type\": \"\",\n        \"description\": \"\"\n      }\n    },\n    {\n      \"column\": \"Abnormal Discharge\",\n      \"properties\": {\n        \"dtype\": \"category\",\n        \"num_unique_values\": 58,\n        \"samples\": [\n          \"Yellow discharge\",\n          \"Yellow discharge, burning sensation\",\n          \"Brownish discharge, None\"\n        ],\n        \"semantic_type\": \"\",\n        \"description\": \"\"\n      }\n    },\n    {\n      \"column\": \"Fever Onset\",\n      \"properties\": {\n        \"dtype\": \"object\",\n        \"num_unique_values\": 76,\n        \"samples\": [\n          \"5/20/2025\",\n          \"2/20/2026\",\n          \"11/12/2023\"\n        ],\n        \"semantic_type\": \"\",\n        \"description\": \"\"\n      }\n    },\n    {\n      \"column\": \"Irregular Periods\",\n      \"properties\": {\n        \"dtype\": \"category\",\n        \"num_unique_values\": 10,\n        \"samples\": [\n          \"Regular (28 days)\",\n          \"Yes\",\n          \"Postmenopausal (no periods)\"\n        ],\n        \"semantic_type\": \"\",\n        \"description\": \"\"\n      }\n    },\n    {\n      \"column\": \"Dyspareunia\",\n      \"properties\": {\n        \"dtype\": \"category\",\n        \"num_unique_values\": 2,\n        \"samples\": [\n          \"No\",\n          \"Yes\"\n        ],\n        \"semantic_type\": \"\",\n        \"description\": \"\"\n      }\n    },\n    {\n      \"column\": \"Dysuria\",\n      \"properties\": {\n        \"dtype\": \"category\",\n        \"num_unique_values\": 2,\n        \"samples\": [\n          \"Yes\",\n          \"No\"\n        ],\n        \"semantic_type\": \"\",\n        \"description\": \"\"\n      }\n    },\n    {\n      \"column\": \"WBC Count\",\n      \"properties\": {\n        \"dtype\": \"category\",\n        \"num_unique_values\": 4,\n        \"samples\": [\n          \"Elevated\",\n          \"Slightly Elevated\"\n        ],\n        \"semantic_type\": \"\",\n        \"description\": \"\"\n      }\n    },\n    {\n      \"column\": \"ESR\",\n      \"properties\": {\n        \"dtype\": \"category\",\n        \"num_unique_values\": 3,\n        \"samples\": [\n          \"Normal\",\n          \"Elevated\"\n        ],\n        \"semantic_type\": \"\",\n        \"description\": \"\"\n      }\n    },\n    {\n      \"column\": \"CRP Level\",\n      \"properties\": {\n        \"dtype\": \"category\",\n        \"num_unique_values\": 4,\n        \"samples\": [\n          \"Slightly Elevated\",\n          \"Elevated\"\n        ],\n        \"semantic_type\": \"\",\n        \"description\": \"\"\n      }\n    },\n    {\n      \"column\": \"PID Diagnosis\",\n      \"properties\": {\n        \"dtype\": \"category\",\n        \"num_unique_values\": 2,\n        \"samples\": [\n          \"Positive\",\n          \"Negative\"\n        ],\n        \"semantic_type\": \"\",\n        \"description\": \"\"\n      }\n    }\n  ]\n}"
            }
          },
          "metadata": {},
          "execution_count": 26
        }
      ]
    },
    {
      "cell_type": "markdown",
      "source": [
        "**Data Cleaning **"
      ],
      "metadata": {
        "id": "dkMuLQHH-TQZ"
      }
    },
    {
      "cell_type": "code",
      "source": [
        "data.drop(columns=[\"Patient ID\"], inplace=True)\n",
        "data.drop(columns=[\"Race\"], inplace=True)\n",
        "data.drop(columns=[\"Fever Onset\"],inplace=True)"
      ],
      "metadata": {
        "id": "eg2zYS7aM_aV"
      },
      "execution_count": 27,
      "outputs": []
    },
    {
      "cell_type": "code",
      "source": [
        "data.tail()"
      ],
      "metadata": {
        "colab": {
          "base_uri": "https://localhost:8080/",
          "height": 397
        },
        "collapsed": true,
        "id": "7Up9hP32M_fz",
        "outputId": "1e3afb8f-b6bc-4bc4-b094-4db28935a948"
      },
      "execution_count": 28,
      "outputs": [
        {
          "output_type": "execute_result",
          "data": {
            "text/plain": [
              "     Age STDs/UTI History            IUD Use   Past Pelvic Pain  \\\n",
              "514   30        Chlamydia  Yes (3 years ago)  Yes (3 years ago)   \n",
              "515   28               No                 No                 No   \n",
              "516   32               No                 No  Yes (2 years ago)   \n",
              "517   25        Chlamydia   Yes (1 year ago)   Yes (1 year ago)   \n",
              "518   34               No                 No   Yes (1 year ago)   \n",
              "\n",
              "             Imaging Results            Abnormal Discharge  \\\n",
              "514  Adnexal tenderness (US)  Yellowish discharge, itching   \n",
              "515              Normal (US)                           NaN   \n",
              "516    Pelvic adhesions (US)     Yellowish discharge, odor   \n",
              "517  Adnexal tenderness (US)        Yellow discharge, pain   \n",
              "518              Normal (US)    Greyish discharge, itching   \n",
              "\n",
              "          Irregular Periods Dyspareunia Dysuria WBC Count       ESR  \\\n",
              "514  Irregular (30-35 days)         Yes     Yes  Elevated  Elevated   \n",
              "515       Regular (28 days)          No      No    Normal    Normal   \n",
              "516  Irregular (30-35 days)         Yes      No  Elevated  Elevated   \n",
              "517  Irregular (30-35 days)         Yes     Yes  Elevated  Elevated   \n",
              "518       Regular (28 days)         Yes      No  Elevated  Elevated   \n",
              "\n",
              "             CRP Level PID Diagnosis  \n",
              "514  Slightly Elevated      Positive  \n",
              "515             Normal      Negative  \n",
              "516  Slightly Elevated      Positive  \n",
              "517  Slightly Elevated      Positive  \n",
              "518  Slightly Elevated      Positive  "
            ],
            "text/html": [
              "\n",
              "  <div id=\"df-283a8d31-5088-4b6b-9d0a-827bd7171ea2\" class=\"colab-df-container\">\n",
              "    <div>\n",
              "<style scoped>\n",
              "    .dataframe tbody tr th:only-of-type {\n",
              "        vertical-align: middle;\n",
              "    }\n",
              "\n",
              "    .dataframe tbody tr th {\n",
              "        vertical-align: top;\n",
              "    }\n",
              "\n",
              "    .dataframe thead th {\n",
              "        text-align: right;\n",
              "    }\n",
              "</style>\n",
              "<table border=\"1\" class=\"dataframe\">\n",
              "  <thead>\n",
              "    <tr style=\"text-align: right;\">\n",
              "      <th></th>\n",
              "      <th>Age</th>\n",
              "      <th>STDs/UTI History</th>\n",
              "      <th>IUD Use</th>\n",
              "      <th>Past Pelvic Pain</th>\n",
              "      <th>Imaging Results</th>\n",
              "      <th>Abnormal Discharge</th>\n",
              "      <th>Irregular Periods</th>\n",
              "      <th>Dyspareunia</th>\n",
              "      <th>Dysuria</th>\n",
              "      <th>WBC Count</th>\n",
              "      <th>ESR</th>\n",
              "      <th>CRP Level</th>\n",
              "      <th>PID Diagnosis</th>\n",
              "    </tr>\n",
              "  </thead>\n",
              "  <tbody>\n",
              "    <tr>\n",
              "      <th>514</th>\n",
              "      <td>30</td>\n",
              "      <td>Chlamydia</td>\n",
              "      <td>Yes (3 years ago)</td>\n",
              "      <td>Yes (3 years ago)</td>\n",
              "      <td>Adnexal tenderness (US)</td>\n",
              "      <td>Yellowish discharge, itching</td>\n",
              "      <td>Irregular (30-35 days)</td>\n",
              "      <td>Yes</td>\n",
              "      <td>Yes</td>\n",
              "      <td>Elevated</td>\n",
              "      <td>Elevated</td>\n",
              "      <td>Slightly Elevated</td>\n",
              "      <td>Positive</td>\n",
              "    </tr>\n",
              "    <tr>\n",
              "      <th>515</th>\n",
              "      <td>28</td>\n",
              "      <td>No</td>\n",
              "      <td>No</td>\n",
              "      <td>No</td>\n",
              "      <td>Normal (US)</td>\n",
              "      <td>NaN</td>\n",
              "      <td>Regular (28 days)</td>\n",
              "      <td>No</td>\n",
              "      <td>No</td>\n",
              "      <td>Normal</td>\n",
              "      <td>Normal</td>\n",
              "      <td>Normal</td>\n",
              "      <td>Negative</td>\n",
              "    </tr>\n",
              "    <tr>\n",
              "      <th>516</th>\n",
              "      <td>32</td>\n",
              "      <td>No</td>\n",
              "      <td>No</td>\n",
              "      <td>Yes (2 years ago)</td>\n",
              "      <td>Pelvic adhesions (US)</td>\n",
              "      <td>Yellowish discharge, odor</td>\n",
              "      <td>Irregular (30-35 days)</td>\n",
              "      <td>Yes</td>\n",
              "      <td>No</td>\n",
              "      <td>Elevated</td>\n",
              "      <td>Elevated</td>\n",
              "      <td>Slightly Elevated</td>\n",
              "      <td>Positive</td>\n",
              "    </tr>\n",
              "    <tr>\n",
              "      <th>517</th>\n",
              "      <td>25</td>\n",
              "      <td>Chlamydia</td>\n",
              "      <td>Yes (1 year ago)</td>\n",
              "      <td>Yes (1 year ago)</td>\n",
              "      <td>Adnexal tenderness (US)</td>\n",
              "      <td>Yellow discharge, pain</td>\n",
              "      <td>Irregular (30-35 days)</td>\n",
              "      <td>Yes</td>\n",
              "      <td>Yes</td>\n",
              "      <td>Elevated</td>\n",
              "      <td>Elevated</td>\n",
              "      <td>Slightly Elevated</td>\n",
              "      <td>Positive</td>\n",
              "    </tr>\n",
              "    <tr>\n",
              "      <th>518</th>\n",
              "      <td>34</td>\n",
              "      <td>No</td>\n",
              "      <td>No</td>\n",
              "      <td>Yes (1 year ago)</td>\n",
              "      <td>Normal (US)</td>\n",
              "      <td>Greyish discharge, itching</td>\n",
              "      <td>Regular (28 days)</td>\n",
              "      <td>Yes</td>\n",
              "      <td>No</td>\n",
              "      <td>Elevated</td>\n",
              "      <td>Elevated</td>\n",
              "      <td>Slightly Elevated</td>\n",
              "      <td>Positive</td>\n",
              "    </tr>\n",
              "  </tbody>\n",
              "</table>\n",
              "</div>\n",
              "    <div class=\"colab-df-buttons\">\n",
              "\n",
              "  <div class=\"colab-df-container\">\n",
              "    <button class=\"colab-df-convert\" onclick=\"convertToInteractive('df-283a8d31-5088-4b6b-9d0a-827bd7171ea2')\"\n",
              "            title=\"Convert this dataframe to an interactive table.\"\n",
              "            style=\"display:none;\">\n",
              "\n",
              "  <svg xmlns=\"http://www.w3.org/2000/svg\" height=\"24px\" viewBox=\"0 -960 960 960\">\n",
              "    <path d=\"M120-120v-720h720v720H120Zm60-500h600v-160H180v160Zm220 220h160v-160H400v160Zm0 220h160v-160H400v160ZM180-400h160v-160H180v160Zm440 0h160v-160H620v160ZM180-180h160v-160H180v160Zm440 0h160v-160H620v160Z\"/>\n",
              "  </svg>\n",
              "    </button>\n",
              "\n",
              "  <style>\n",
              "    .colab-df-container {\n",
              "      display:flex;\n",
              "      gap: 12px;\n",
              "    }\n",
              "\n",
              "    .colab-df-convert {\n",
              "      background-color: #E8F0FE;\n",
              "      border: none;\n",
              "      border-radius: 50%;\n",
              "      cursor: pointer;\n",
              "      display: none;\n",
              "      fill: #1967D2;\n",
              "      height: 32px;\n",
              "      padding: 0 0 0 0;\n",
              "      width: 32px;\n",
              "    }\n",
              "\n",
              "    .colab-df-convert:hover {\n",
              "      background-color: #E2EBFA;\n",
              "      box-shadow: 0px 1px 2px rgba(60, 64, 67, 0.3), 0px 1px 3px 1px rgba(60, 64, 67, 0.15);\n",
              "      fill: #174EA6;\n",
              "    }\n",
              "\n",
              "    .colab-df-buttons div {\n",
              "      margin-bottom: 4px;\n",
              "    }\n",
              "\n",
              "    [theme=dark] .colab-df-convert {\n",
              "      background-color: #3B4455;\n",
              "      fill: #D2E3FC;\n",
              "    }\n",
              "\n",
              "    [theme=dark] .colab-df-convert:hover {\n",
              "      background-color: #434B5C;\n",
              "      box-shadow: 0px 1px 3px 1px rgba(0, 0, 0, 0.15);\n",
              "      filter: drop-shadow(0px 1px 2px rgba(0, 0, 0, 0.3));\n",
              "      fill: #FFFFFF;\n",
              "    }\n",
              "  </style>\n",
              "\n",
              "    <script>\n",
              "      const buttonEl =\n",
              "        document.querySelector('#df-283a8d31-5088-4b6b-9d0a-827bd7171ea2 button.colab-df-convert');\n",
              "      buttonEl.style.display =\n",
              "        google.colab.kernel.accessAllowed ? 'block' : 'none';\n",
              "\n",
              "      async function convertToInteractive(key) {\n",
              "        const element = document.querySelector('#df-283a8d31-5088-4b6b-9d0a-827bd7171ea2');\n",
              "        const dataTable =\n",
              "          await google.colab.kernel.invokeFunction('convertToInteractive',\n",
              "                                                    [key], {});\n",
              "        if (!dataTable) return;\n",
              "\n",
              "        const docLinkHtml = 'Like what you see? Visit the ' +\n",
              "          '<a target=\"_blank\" href=https://colab.research.google.com/notebooks/data_table.ipynb>data table notebook</a>'\n",
              "          + ' to learn more about interactive tables.';\n",
              "        element.innerHTML = '';\n",
              "        dataTable['output_type'] = 'display_data';\n",
              "        await google.colab.output.renderOutput(dataTable, element);\n",
              "        const docLink = document.createElement('div');\n",
              "        docLink.innerHTML = docLinkHtml;\n",
              "        element.appendChild(docLink);\n",
              "      }\n",
              "    </script>\n",
              "  </div>\n",
              "\n",
              "\n",
              "<div id=\"df-863588ec-2ad5-49e0-8b55-55978283ba08\">\n",
              "  <button class=\"colab-df-quickchart\" onclick=\"quickchart('df-863588ec-2ad5-49e0-8b55-55978283ba08')\"\n",
              "            title=\"Suggest charts\"\n",
              "            style=\"display:none;\">\n",
              "\n",
              "<svg xmlns=\"http://www.w3.org/2000/svg\" height=\"24px\"viewBox=\"0 0 24 24\"\n",
              "     width=\"24px\">\n",
              "    <g>\n",
              "        <path d=\"M19 3H5c-1.1 0-2 .9-2 2v14c0 1.1.9 2 2 2h14c1.1 0 2-.9 2-2V5c0-1.1-.9-2-2-2zM9 17H7v-7h2v7zm4 0h-2V7h2v10zm4 0h-2v-4h2v4z\"/>\n",
              "    </g>\n",
              "</svg>\n",
              "  </button>\n",
              "\n",
              "<style>\n",
              "  .colab-df-quickchart {\n",
              "      --bg-color: #E8F0FE;\n",
              "      --fill-color: #1967D2;\n",
              "      --hover-bg-color: #E2EBFA;\n",
              "      --hover-fill-color: #174EA6;\n",
              "      --disabled-fill-color: #AAA;\n",
              "      --disabled-bg-color: #DDD;\n",
              "  }\n",
              "\n",
              "  [theme=dark] .colab-df-quickchart {\n",
              "      --bg-color: #3B4455;\n",
              "      --fill-color: #D2E3FC;\n",
              "      --hover-bg-color: #434B5C;\n",
              "      --hover-fill-color: #FFFFFF;\n",
              "      --disabled-bg-color: #3B4455;\n",
              "      --disabled-fill-color: #666;\n",
              "  }\n",
              "\n",
              "  .colab-df-quickchart {\n",
              "    background-color: var(--bg-color);\n",
              "    border: none;\n",
              "    border-radius: 50%;\n",
              "    cursor: pointer;\n",
              "    display: none;\n",
              "    fill: var(--fill-color);\n",
              "    height: 32px;\n",
              "    padding: 0;\n",
              "    width: 32px;\n",
              "  }\n",
              "\n",
              "  .colab-df-quickchart:hover {\n",
              "    background-color: var(--hover-bg-color);\n",
              "    box-shadow: 0 1px 2px rgba(60, 64, 67, 0.3), 0 1px 3px 1px rgba(60, 64, 67, 0.15);\n",
              "    fill: var(--button-hover-fill-color);\n",
              "  }\n",
              "\n",
              "  .colab-df-quickchart-complete:disabled,\n",
              "  .colab-df-quickchart-complete:disabled:hover {\n",
              "    background-color: var(--disabled-bg-color);\n",
              "    fill: var(--disabled-fill-color);\n",
              "    box-shadow: none;\n",
              "  }\n",
              "\n",
              "  .colab-df-spinner {\n",
              "    border: 2px solid var(--fill-color);\n",
              "    border-color: transparent;\n",
              "    border-bottom-color: var(--fill-color);\n",
              "    animation:\n",
              "      spin 1s steps(1) infinite;\n",
              "  }\n",
              "\n",
              "  @keyframes spin {\n",
              "    0% {\n",
              "      border-color: transparent;\n",
              "      border-bottom-color: var(--fill-color);\n",
              "      border-left-color: var(--fill-color);\n",
              "    }\n",
              "    20% {\n",
              "      border-color: transparent;\n",
              "      border-left-color: var(--fill-color);\n",
              "      border-top-color: var(--fill-color);\n",
              "    }\n",
              "    30% {\n",
              "      border-color: transparent;\n",
              "      border-left-color: var(--fill-color);\n",
              "      border-top-color: var(--fill-color);\n",
              "      border-right-color: var(--fill-color);\n",
              "    }\n",
              "    40% {\n",
              "      border-color: transparent;\n",
              "      border-right-color: var(--fill-color);\n",
              "      border-top-color: var(--fill-color);\n",
              "    }\n",
              "    60% {\n",
              "      border-color: transparent;\n",
              "      border-right-color: var(--fill-color);\n",
              "    }\n",
              "    80% {\n",
              "      border-color: transparent;\n",
              "      border-right-color: var(--fill-color);\n",
              "      border-bottom-color: var(--fill-color);\n",
              "    }\n",
              "    90% {\n",
              "      border-color: transparent;\n",
              "      border-bottom-color: var(--fill-color);\n",
              "    }\n",
              "  }\n",
              "</style>\n",
              "\n",
              "  <script>\n",
              "    async function quickchart(key) {\n",
              "      const quickchartButtonEl =\n",
              "        document.querySelector('#' + key + ' button');\n",
              "      quickchartButtonEl.disabled = true;  // To prevent multiple clicks.\n",
              "      quickchartButtonEl.classList.add('colab-df-spinner');\n",
              "      try {\n",
              "        const charts = await google.colab.kernel.invokeFunction(\n",
              "            'suggestCharts', [key], {});\n",
              "      } catch (error) {\n",
              "        console.error('Error during call to suggestCharts:', error);\n",
              "      }\n",
              "      quickchartButtonEl.classList.remove('colab-df-spinner');\n",
              "      quickchartButtonEl.classList.add('colab-df-quickchart-complete');\n",
              "    }\n",
              "    (() => {\n",
              "      let quickchartButtonEl =\n",
              "        document.querySelector('#df-863588ec-2ad5-49e0-8b55-55978283ba08 button');\n",
              "      quickchartButtonEl.style.display =\n",
              "        google.colab.kernel.accessAllowed ? 'block' : 'none';\n",
              "    })();\n",
              "  </script>\n",
              "</div>\n",
              "\n",
              "    </div>\n",
              "  </div>\n"
            ],
            "application/vnd.google.colaboratory.intrinsic+json": {
              "type": "dataframe",
              "summary": "{\n  \"name\": \"data\",\n  \"rows\": 5,\n  \"fields\": [\n    {\n      \"column\": \"Age\",\n      \"properties\": {\n        \"dtype\": \"number\",\n        \"std\": 3,\n        \"min\": 25,\n        \"max\": 34,\n        \"num_unique_values\": 5,\n        \"samples\": [\n          28,\n          34,\n          32\n        ],\n        \"semantic_type\": \"\",\n        \"description\": \"\"\n      }\n    },\n    {\n      \"column\": \"STDs/UTI History\",\n      \"properties\": {\n        \"dtype\": \"category\",\n        \"num_unique_values\": 2,\n        \"samples\": [\n          \"No\",\n          \"Chlamydia\"\n        ],\n        \"semantic_type\": \"\",\n        \"description\": \"\"\n      }\n    },\n    {\n      \"column\": \"IUD Use\",\n      \"properties\": {\n        \"dtype\": \"string\",\n        \"num_unique_values\": 3,\n        \"samples\": [\n          \"Yes (3 years ago)\",\n          \"No\"\n        ],\n        \"semantic_type\": \"\",\n        \"description\": \"\"\n      }\n    },\n    {\n      \"column\": \"Past Pelvic Pain\",\n      \"properties\": {\n        \"dtype\": \"string\",\n        \"num_unique_values\": 4,\n        \"samples\": [\n          \"No\",\n          \"Yes (1 year ago)\"\n        ],\n        \"semantic_type\": \"\",\n        \"description\": \"\"\n      }\n    },\n    {\n      \"column\": \"Imaging Results\",\n      \"properties\": {\n        \"dtype\": \"string\",\n        \"num_unique_values\": 3,\n        \"samples\": [\n          \"Adnexal tenderness (US)\",\n          \"Normal (US)\"\n        ],\n        \"semantic_type\": \"\",\n        \"description\": \"\"\n      }\n    },\n    {\n      \"column\": \"Abnormal Discharge\",\n      \"properties\": {\n        \"dtype\": \"string\",\n        \"num_unique_values\": 4,\n        \"samples\": [\n          \"Yellowish discharge, odor\",\n          \"Greyish discharge, itching\"\n        ],\n        \"semantic_type\": \"\",\n        \"description\": \"\"\n      }\n    },\n    {\n      \"column\": \"Irregular Periods\",\n      \"properties\": {\n        \"dtype\": \"category\",\n        \"num_unique_values\": 2,\n        \"samples\": [\n          \"Regular (28 days)\",\n          \"Irregular (30-35 days)\"\n        ],\n        \"semantic_type\": \"\",\n        \"description\": \"\"\n      }\n    },\n    {\n      \"column\": \"Dyspareunia\",\n      \"properties\": {\n        \"dtype\": \"category\",\n        \"num_unique_values\": 2,\n        \"samples\": [\n          \"No\",\n          \"Yes\"\n        ],\n        \"semantic_type\": \"\",\n        \"description\": \"\"\n      }\n    },\n    {\n      \"column\": \"Dysuria\",\n      \"properties\": {\n        \"dtype\": \"category\",\n        \"num_unique_values\": 2,\n        \"samples\": [\n          \"No\",\n          \"Yes\"\n        ],\n        \"semantic_type\": \"\",\n        \"description\": \"\"\n      }\n    },\n    {\n      \"column\": \"WBC Count\",\n      \"properties\": {\n        \"dtype\": \"category\",\n        \"num_unique_values\": 2,\n        \"samples\": [\n          \"Normal\",\n          \"Elevated\"\n        ],\n        \"semantic_type\": \"\",\n        \"description\": \"\"\n      }\n    },\n    {\n      \"column\": \"ESR\",\n      \"properties\": {\n        \"dtype\": \"category\",\n        \"num_unique_values\": 2,\n        \"samples\": [\n          \"Normal\",\n          \"Elevated\"\n        ],\n        \"semantic_type\": \"\",\n        \"description\": \"\"\n      }\n    },\n    {\n      \"column\": \"CRP Level\",\n      \"properties\": {\n        \"dtype\": \"category\",\n        \"num_unique_values\": 2,\n        \"samples\": [\n          \"Normal\",\n          \"Slightly Elevated\"\n        ],\n        \"semantic_type\": \"\",\n        \"description\": \"\"\n      }\n    },\n    {\n      \"column\": \"PID Diagnosis\",\n      \"properties\": {\n        \"dtype\": \"category\",\n        \"num_unique_values\": 2,\n        \"samples\": [\n          \"Negative\",\n          \"Positive\"\n        ],\n        \"semantic_type\": \"\",\n        \"description\": \"\"\n      }\n    }\n  ]\n}"
            }
          },
          "metadata": {},
          "execution_count": 28
        }
      ]
    },
    {
      "cell_type": "markdown",
      "source": [
        "**Define Features and Target**"
      ],
      "metadata": {
        "id": "2vdF-NTFEhsP"
      }
    },
    {
      "cell_type": "code",
      "source": [
        "categorical_features = [\"STDs/UTI History\", \"IUD Use\", \"Past Pelvic Pain\", \"Imaging Results\", \"Abnormal Discharge\", \"Irregular Periods\", \"Dyspareunia\", \"Dysuria\",\"WBC Count\", \"ESR\", \"CRP Level\",]\n",
        "numerical_features = [\"Age\"]\n",
        "\n",
        "# Target Mapping\n",
        "data[\"PID Diagnosis\"]= data[\"PID Diagnosis\"].map({\"Positive\":1, \"Negative\":0})\n",
        "\n",
        "x = data[categorical_features + numerical_features]\n",
        "y = data[\"PID Diagnosis\"]"
      ],
      "metadata": {
        "id": "_D4zQlcYDySj"
      },
      "execution_count": 29,
      "outputs": []
    },
    {
      "cell_type": "code",
      "source": [
        "print(x)"
      ],
      "metadata": {
        "colab": {
          "base_uri": "https://localhost:8080/"
        },
        "id": "2m6VKh8rDyVY",
        "outputId": "bb930328-959a-49b5-c5d3-4fd3cdb25b67"
      },
      "execution_count": 30,
      "outputs": [
        {
          "output_type": "stream",
          "name": "stdout",
          "text": [
            "      STDs/UTI History            IUD Use   Past Pelvic Pain  \\\n",
            "0                   No                Yes                 No   \n",
            "1    Yes (2 years ago)                 No                Yes   \n",
            "2                   No                Yes                Yes   \n",
            "3                   No                 No                 No   \n",
            "4        Yes (current)                Yes                 No   \n",
            "..                 ...                ...                ...   \n",
            "514          Chlamydia  Yes (3 years ago)  Yes (3 years ago)   \n",
            "515                 No                 No                 No   \n",
            "516                 No                 No  Yes (2 years ago)   \n",
            "517          Chlamydia   Yes (1 year ago)   Yes (1 year ago)   \n",
            "518                 No                 No   Yes (1 year ago)   \n",
            "\n",
            "             Imaging Results                Abnormal Discharge  \\\n",
            "0                Normal (US)                               NaN   \n",
            "1    Adnexal tenderness (US)                  Yellow discharge   \n",
            "2      Pelvic adhesions (US)   Brown discharge, heavy bleeding   \n",
            "3                Normal (US)  White, clumpy discharge, itching   \n",
            "4                Normal (US)                               NaN   \n",
            "..                       ...                               ...   \n",
            "514  Adnexal tenderness (US)      Yellowish discharge, itching   \n",
            "515              Normal (US)                               NaN   \n",
            "516    Pelvic adhesions (US)         Yellowish discharge, odor   \n",
            "517  Adnexal tenderness (US)            Yellow discharge, pain   \n",
            "518              Normal (US)        Greyish discharge, itching   \n",
            "\n",
            "          Irregular Periods Dyspareunia Dysuria WBC Count       ESR  \\\n",
            "0                        No         Yes      No    Normal    Normal   \n",
            "1                       Yes         Yes     Yes  Elevated  Elevated   \n",
            "2                 Irregular         Yes     Yes      High      High   \n",
            "3                   Regular          No      No    Normal    Normal   \n",
            "4                   Regular          No      No    Normal    Normal   \n",
            "..                      ...         ...     ...       ...       ...   \n",
            "514  Irregular (30-35 days)         Yes     Yes  Elevated  Elevated   \n",
            "515       Regular (28 days)          No      No    Normal    Normal   \n",
            "516  Irregular (30-35 days)         Yes      No  Elevated  Elevated   \n",
            "517  Irregular (30-35 days)         Yes     Yes  Elevated  Elevated   \n",
            "518       Regular (28 days)         Yes      No  Elevated  Elevated   \n",
            "\n",
            "             CRP Level  Age  \n",
            "0               Normal   25  \n",
            "1    Slightly Elevated   30  \n",
            "2                 High   35  \n",
            "3               Normal   28  \n",
            "4               Normal   33  \n",
            "..                 ...  ...  \n",
            "514  Slightly Elevated   30  \n",
            "515             Normal   28  \n",
            "516  Slightly Elevated   32  \n",
            "517  Slightly Elevated   25  \n",
            "518  Slightly Elevated   34  \n",
            "\n",
            "[519 rows x 12 columns]\n"
          ]
        }
      ]
    },
    {
      "cell_type": "code",
      "source": [
        "print(y)"
      ],
      "metadata": {
        "colab": {
          "base_uri": "https://localhost:8080/"
        },
        "id": "AomQ9shkDyZY",
        "outputId": "4e2afa41-e7bb-4114-84ab-4b6878fbeb31"
      },
      "execution_count": 31,
      "outputs": [
        {
          "output_type": "stream",
          "name": "stdout",
          "text": [
            "0      0\n",
            "1      1\n",
            "2      1\n",
            "3      0\n",
            "4      0\n",
            "      ..\n",
            "514    1\n",
            "515    0\n",
            "516    1\n",
            "517    1\n",
            "518    1\n",
            "Name: PID Diagnosis, Length: 519, dtype: int64\n"
          ]
        }
      ]
    },
    {
      "cell_type": "markdown",
      "source": [
        "**Define Goals and Metrics**"
      ],
      "metadata": {
        "id": "j4G8noYxRGSV"
      }
    },
    {
      "cell_type": "code",
      "source": [
        "# metrics comparison\n",
        "metrics = {\n",
        "    \"accuracy\":accuracy_score,\n",
        "    \"precision\": lambda y_true, y_pred: precision_score(y_true, y_pred, pos_label=1),\n",
        "    \"recall\": lambda y_true, y_pred: recall_score(y_true, y_pred, pos_label=1),\n",
        "    \"f1\": lambda y_true, y_pred: f1_score(y_true, y_pred, pos_label=1),\n",
        "    \"roc_auc\": lambda y_true, y_pred: roc_auc_score(y_true, y_pred)\n",
        "\n",
        "}"
      ],
      "metadata": {
        "id": "b1KZYy8lRFIj"
      },
      "execution_count": 32,
      "outputs": []
    },
    {
      "cell_type": "markdown",
      "source": [
        "**Split the Data**"
      ],
      "metadata": {
        "id": "_gnBxkmQ_vC7"
      }
    },
    {
      "cell_type": "code",
      "source": [
        "x_train, x_test, y_train, y_test = train_test_split(x, y, test_size = 0.2, random_state = 42)"
      ],
      "metadata": {
        "id": "lBv8m1kE_rHw"
      },
      "execution_count": 33,
      "outputs": []
    },
    {
      "cell_type": "markdown",
      "source": [
        "**Preprocessing Pipelines**"
      ],
      "metadata": {
        "id": "MLcYefujAU_s"
      }
    },
    {
      "cell_type": "code",
      "source": [
        "# categorical data preprocessing\n",
        "categorical_transformer = Pipeline(steps=[\n",
        "    (\"imputer\", SimpleImputer(strategy=\"constant\", fill_value=\"missing\")),\n",
        "    (\"onehot\", OneHotEncoder(handle_unknown=\"ignore\"))\n",
        "])\n",
        "print(categorical_transformer)\n",
        "# This pipeline for categorical data first imputes missing values with the string 'missing'\n",
        "# and then applies one-hot encoding to convert categorical features into numerical format."
      ],
      "metadata": {
        "id": "g3VdG1u3_rP6",
        "colab": {
          "base_uri": "https://localhost:8080/"
        },
        "outputId": "0595e6a7-4bd9-4e5a-d0b7-d5d977c69166"
      },
      "execution_count": 34,
      "outputs": [
        {
          "output_type": "stream",
          "name": "stdout",
          "text": [
            "Pipeline(steps=[('imputer',\n",
            "                 SimpleImputer(fill_value='missing', strategy='constant')),\n",
            "                ('onehot', OneHotEncoder(handle_unknown='ignore'))])\n"
          ]
        }
      ]
    },
    {
      "cell_type": "code",
      "source": [
        "# Numerical Data Preprocessing\n",
        "numerical_transformer = Pipeline(steps=[\n",
        "    (\"imputer\", SimpleImputer(strategy=\"mean\")),\n",
        "    (\"scaler\", StandardScaler())\n",
        "])\n",
        "numerical_transformer\n",
        "# This pipeline for numerical data first imputes missing values with the mean of the column\n",
        "# and then scales the features to have a mean of 0\n",
        "# and a standard deviation of 1."
      ],
      "metadata": {
        "id": "vlTsAxYxAlbz",
        "colab": {
          "base_uri": "https://localhost:8080/",
          "height": 124
        },
        "outputId": "d81082fc-1ece-4e24-e978-1a42caf6d755"
      },
      "execution_count": 35,
      "outputs": [
        {
          "output_type": "execute_result",
          "data": {
            "text/plain": [
              "Pipeline(steps=[('imputer', SimpleImputer()), ('scaler', StandardScaler())])"
            ],
            "text/html": [
              "<style>#sk-container-id-2 {color: black;background-color: white;}#sk-container-id-2 pre{padding: 0;}#sk-container-id-2 div.sk-toggleable {background-color: white;}#sk-container-id-2 label.sk-toggleable__label {cursor: pointer;display: block;width: 100%;margin-bottom: 0;padding: 0.3em;box-sizing: border-box;text-align: center;}#sk-container-id-2 label.sk-toggleable__label-arrow:before {content: \"▸\";float: left;margin-right: 0.25em;color: #696969;}#sk-container-id-2 label.sk-toggleable__label-arrow:hover:before {color: black;}#sk-container-id-2 div.sk-estimator:hover label.sk-toggleable__label-arrow:before {color: black;}#sk-container-id-2 div.sk-toggleable__content {max-height: 0;max-width: 0;overflow: hidden;text-align: left;background-color: #f0f8ff;}#sk-container-id-2 div.sk-toggleable__content pre {margin: 0.2em;color: black;border-radius: 0.25em;background-color: #f0f8ff;}#sk-container-id-2 input.sk-toggleable__control:checked~div.sk-toggleable__content {max-height: 200px;max-width: 100%;overflow: auto;}#sk-container-id-2 input.sk-toggleable__control:checked~label.sk-toggleable__label-arrow:before {content: \"▾\";}#sk-container-id-2 div.sk-estimator input.sk-toggleable__control:checked~label.sk-toggleable__label {background-color: #d4ebff;}#sk-container-id-2 div.sk-label input.sk-toggleable__control:checked~label.sk-toggleable__label {background-color: #d4ebff;}#sk-container-id-2 input.sk-hidden--visually {border: 0;clip: rect(1px 1px 1px 1px);clip: rect(1px, 1px, 1px, 1px);height: 1px;margin: -1px;overflow: hidden;padding: 0;position: absolute;width: 1px;}#sk-container-id-2 div.sk-estimator {font-family: monospace;background-color: #f0f8ff;border: 1px dotted black;border-radius: 0.25em;box-sizing: border-box;margin-bottom: 0.5em;}#sk-container-id-2 div.sk-estimator:hover {background-color: #d4ebff;}#sk-container-id-2 div.sk-parallel-item::after {content: \"\";width: 100%;border-bottom: 1px solid gray;flex-grow: 1;}#sk-container-id-2 div.sk-label:hover label.sk-toggleable__label {background-color: #d4ebff;}#sk-container-id-2 div.sk-serial::before {content: \"\";position: absolute;border-left: 1px solid gray;box-sizing: border-box;top: 0;bottom: 0;left: 50%;z-index: 0;}#sk-container-id-2 div.sk-serial {display: flex;flex-direction: column;align-items: center;background-color: white;padding-right: 0.2em;padding-left: 0.2em;position: relative;}#sk-container-id-2 div.sk-item {position: relative;z-index: 1;}#sk-container-id-2 div.sk-parallel {display: flex;align-items: stretch;justify-content: center;background-color: white;position: relative;}#sk-container-id-2 div.sk-item::before, #sk-container-id-2 div.sk-parallel-item::before {content: \"\";position: absolute;border-left: 1px solid gray;box-sizing: border-box;top: 0;bottom: 0;left: 50%;z-index: -1;}#sk-container-id-2 div.sk-parallel-item {display: flex;flex-direction: column;z-index: 1;position: relative;background-color: white;}#sk-container-id-2 div.sk-parallel-item:first-child::after {align-self: flex-end;width: 50%;}#sk-container-id-2 div.sk-parallel-item:last-child::after {align-self: flex-start;width: 50%;}#sk-container-id-2 div.sk-parallel-item:only-child::after {width: 0;}#sk-container-id-2 div.sk-dashed-wrapped {border: 1px dashed gray;margin: 0 0.4em 0.5em 0.4em;box-sizing: border-box;padding-bottom: 0.4em;background-color: white;}#sk-container-id-2 div.sk-label label {font-family: monospace;font-weight: bold;display: inline-block;line-height: 1.2em;}#sk-container-id-2 div.sk-label-container {text-align: center;}#sk-container-id-2 div.sk-container {/* jupyter's `normalize.less` sets `[hidden] { display: none; }` but bootstrap.min.css set `[hidden] { display: none !important; }` so we also need the `!important` here to be able to override the default hidden behavior on the sphinx rendered scikit-learn.org. See: https://github.com/scikit-learn/scikit-learn/issues/21755 */display: inline-block !important;position: relative;}#sk-container-id-2 div.sk-text-repr-fallback {display: none;}</style><div id=\"sk-container-id-2\" class=\"sk-top-container\"><div class=\"sk-text-repr-fallback\"><pre>Pipeline(steps=[(&#x27;imputer&#x27;, SimpleImputer()), (&#x27;scaler&#x27;, StandardScaler())])</pre><b>In a Jupyter environment, please rerun this cell to show the HTML representation or trust the notebook. <br />On GitHub, the HTML representation is unable to render, please try loading this page with nbviewer.org.</b></div><div class=\"sk-container\" hidden><div class=\"sk-item sk-dashed-wrapped\"><div class=\"sk-label-container\"><div class=\"sk-label sk-toggleable\"><input class=\"sk-toggleable__control sk-hidden--visually\" id=\"sk-estimator-id-4\" type=\"checkbox\" ><label for=\"sk-estimator-id-4\" class=\"sk-toggleable__label sk-toggleable__label-arrow\">Pipeline</label><div class=\"sk-toggleable__content\"><pre>Pipeline(steps=[(&#x27;imputer&#x27;, SimpleImputer()), (&#x27;scaler&#x27;, StandardScaler())])</pre></div></div></div><div class=\"sk-serial\"><div class=\"sk-item\"><div class=\"sk-estimator sk-toggleable\"><input class=\"sk-toggleable__control sk-hidden--visually\" id=\"sk-estimator-id-5\" type=\"checkbox\" ><label for=\"sk-estimator-id-5\" class=\"sk-toggleable__label sk-toggleable__label-arrow\">SimpleImputer</label><div class=\"sk-toggleable__content\"><pre>SimpleImputer()</pre></div></div></div><div class=\"sk-item\"><div class=\"sk-estimator sk-toggleable\"><input class=\"sk-toggleable__control sk-hidden--visually\" id=\"sk-estimator-id-6\" type=\"checkbox\" ><label for=\"sk-estimator-id-6\" class=\"sk-toggleable__label sk-toggleable__label-arrow\">StandardScaler</label><div class=\"sk-toggleable__content\"><pre>StandardScaler()</pre></div></div></div></div></div></div></div>"
            ]
          },
          "metadata": {},
          "execution_count": 35
        }
      ]
    },
    {
      "cell_type": "markdown",
      "source": [
        "**Combine Preprocessing Steps**"
      ],
      "metadata": {
        "id": "Ym_-FYfdDPl0"
      }
    },
    {
      "cell_type": "code",
      "source": [
        "Preprocessor = ColumnTransformer(\n",
        "    transformers=[\n",
        "        (\"num\", numerical_transformer, numerical_features),\n",
        "        (\"cat\", categorical_transformer, categorical_features)\n",
        "    ]\n",
        ")\n",
        "# The ColumnTransformer combines both preprocessing pipelines,\n",
        "# applying the appropriate transformations to the respective feature types."
      ],
      "metadata": {
        "id": "PqjVZSoiAldt"
      },
      "execution_count": 36,
      "outputs": []
    },
    {
      "cell_type": "markdown",
      "source": [
        "**Evaluate Each Model**"
      ],
      "metadata": {
        "id": "kXUC_EOZVcvP"
      }
    },
    {
      "cell_type": "code",
      "source": [
        "models = {\n",
        "    \"Logistic Regression\": LogisticRegression(random_state=42),\n",
        "    \"Decision Tree\": DecisionTreeClassifier(random_state=42),\n",
        "    \"Random Forest\": RandomForestClassifier(random_state=42)\n",
        "}\n",
        "\n",
        "pipelines = {}\n",
        "for model_name, model in models.items():\n",
        "  pipeline = Pipeline(steps=[\n",
        "      (\"preprocessor\", Preprocessor),\n",
        "      ('classifier', model)\n",
        "  ])\n",
        "  pipelines[model_name] = pipeline"
      ],
      "metadata": {
        "id": "-EaUwGrhAlgL"
      },
      "execution_count": 37,
      "outputs": []
    },
    {
      "cell_type": "markdown",
      "source": [
        "**Train the Models**"
      ],
      "metadata": {
        "id": "le5Hm8EAXCHS"
      }
    },
    {
      "cell_type": "code",
      "source": [
        "# Train the model\n",
        "results = {}\n",
        "for model_name, pipeline in pipelines.items():\n",
        "    pipeline.fit(x_train, y_train)\n",
        "    results[model_name] = pipeline.score(x_test, y_test)\n",
        "\n",
        "# print the results and compare\n",
        "for model_name, score in results.items():\n",
        "  print(f\"Model: {model_name}, Score: {score}\")\n",
        "\n",
        "# convert results to Dataframe for easier comparison\n",
        "results_df = pd.DataFrame(results, index=models.keys()).T\n",
        "print(results_df)\n"
      ],
      "metadata": {
        "colab": {
          "base_uri": "https://localhost:8080/"
        },
        "id": "mlteuuZRWyf6",
        "outputId": "51eabe63-0f24-4df2-e31e-a74a785f0e79"
      },
      "execution_count": 38,
      "outputs": [
        {
          "output_type": "stream",
          "name": "stdout",
          "text": [
            "Model: Logistic Regression, Score: 0.9903846153846154\n",
            "Model: Decision Tree, Score: 0.9903846153846154\n",
            "Model: Random Forest, Score: 0.9903846153846154\n",
            "                     Logistic Regression  Decision Tree  Random Forest\n",
            "Logistic Regression             0.990385       0.990385       0.990385\n",
            "Decision Tree                   0.990385       0.990385       0.990385\n",
            "Random Forest                   0.990385       0.990385       0.990385\n"
          ]
        }
      ]
    },
    {
      "cell_type": "markdown",
      "source": [
        "**Visualize the Results**"
      ],
      "metadata": {
        "id": "ERP0Y8uvFXQ9"
      }
    },
    {
      "cell_type": "code",
      "source": [
        "# plotting comparison of metrics\n",
        "results_df.plot(kind=\"bar\", figsize=(10, 6))\n",
        "plt.title(\"Model Comparison\")\n",
        "plt.ylabel(\"score\")\n",
        "plt.xlabel(\"Models\")\n",
        "plt.xticks(rotation=45)\n",
        "plt.legend(loc=\"best\")\n",
        "plt.show()"
      ],
      "metadata": {
        "colab": {
          "base_uri": "https://localhost:8080/",
          "height": 654
        },
        "id": "wnfqocyPFjkP",
        "outputId": "7e557195-3ac3-4c1b-8728-b93d2734cad4"
      },
      "execution_count": 39,
      "outputs": [
        {
          "output_type": "display_data",
          "data": {
            "text/plain": [
              "<Figure size 1000x600 with 1 Axes>"
            ],
            "image/png": "[encoded data removed]"
          },
          "metadata": {}
        }
      ]
    },
    {
      "cell_type": "code",
      "source": [
        "# function to input new data and predict\n",
        "def predict_pid(age, stds_uti_history, iud_use, past_pelvic_pain, imaging_results, abnormal_discharge, irregular_periods, dyspareunia, dysuria, wbc_count, esr, crp_level):\n",
        "  new_data = pd.DataFrame({\n",
        "      'Age':[age],\n",
        "      'STDs/UTI History': [stds_uti_history],\n",
        "      'IUD Use': [iud_use],\n",
        "      'Past Pelvic Pain': [past_pelvic_pain],\n",
        "      'Imaging Results': [imaging_results],\n",
        "      'Abnormal Discharge': [abnormal_discharge],\n",
        "      'Irregular Periods': [irregular_periods],\n",
        "      'Dyspareunia': [dyspareunia],\n",
        "      'Dysuria': [dysuria],\n",
        "      'WBC Count': [wbc_count],\n",
        "      'ESR': [esr],\n",
        "      'CRP Level': [crp_level]\n",
        "  })\n",
        "  return pipeline.predict(new_data)[0]\n",
        "  # prediction\n",
        "new_prediction = predict_pid(28,'No','Yes','No','Normal (US)','None','Regular','No','No','Normal','Normal','Normal')\n",
        "print(\"Predicted PID Diagnosis (1=Positive, 0=Negative):\", new_prediction)\n",
        "if new_prediction == 0:\n",
        "  print(\"PID Negative\")\n",
        "else:\n",
        "  print(\"PID Positive\")"
      ],
      "metadata": {
        "colab": {
          "base_uri": "https://localhost:8080/"
        },
        "id": "2pC3bFupFjyL",
        "outputId": "2d9923cf-2884-4801-b612-9a8368c5a2e3"
      },
      "execution_count": 40,
      "outputs": [
        {
          "output_type": "stream",
          "name": "stdout",
          "text": [
            "Predicted PID Diagnosis (1=Positive, 0=Negative): 0\n",
            "PID Negative\n"
          ]
        }
      ]
    },
    {
      "cell_type": "code",
      "source": [
        "! pip install joblib"
      ],
      "metadata": {
        "id": "UTRf7EeQFj1C",
        "colab": {
          "base_uri": "https://localhost:8080/"
        },
        "outputId": "38688093-4474-4ce9-8359-038a33df8bbb"
      },
      "execution_count": 41,
      "outputs": [
        {
          "output_type": "stream",
          "name": "stdout",
          "text": [
            "Requirement already satisfied: joblib in /usr/local/lib/python3.10/dist-packages (1.4.2)\n"
          ]
        }
      ]
    },
    {
      "cell_type": "code",
      "source": [
        "import joblib\n",
        "\n",
        "# Assuming 'pipeline' is your complete pipeline including preprocessing and the classifier\n",
        "joblib.dump(pipeline, r'C:\\Users\\user\\djangoMLDeployment\\savedModels\\PID_Model.joblib')\n"
      ],
      "metadata": {
        "colab": {
          "base_uri": "https://localhost:8080/"
        },
        "id": "sRGkqOlh49gk",
        "outputId": "b3e03211-2e79-4203-d3c7-77d258bcc17c"
      },
      "execution_count": 57,
      "outputs": [
        {
          "output_type": "execute_result",
          "data": {
            "text/plain": [
              "['C:\\\\Users\\\\user\\\\djangoMLDeployment\\\\savedModels\\\\PID_Model.joblib']"
            ]
          },
          "metadata": {},
          "execution_count": 57
        }
      ]
    },
    {
      "cell_type": "code",
      "source": [
        "# Import the correct function\n",
        "import joblib\n",
        "import pandas as pd\n",
        "\n",
        "# Define the model path\n",
        "model_path = r'C:\\Users\\user\\djangoMLDeployment\\savedModels\\PID_Model.joblib'\n",
        "\n",
        "# Load the model\n",
        "try:\n",
        "    # Load the model (pipeline)\n",
        "    pipeline = joblib.load(model_path)\n",
        "    print(\"Model loaded successfully\")\n",
        "\n",
        "    # Define the prediction function\n",
        "    def predict_pid(age, stds_uti_history, iud_use, past_pelvic_pain, imaging_results, abnormal_discharge, irregular_periods, dyspareunia, dysuria, wbc_count, esr, crp_level):\n",
        "        new_data = pd.DataFrame({\n",
        "            'Age': [age],\n",
        "            'STDs/UTI History': [stds_uti_history],\n",
        "            'IUD Use': [iud_use],\n",
        "            'Past Pelvic Pain': [past_pelvic_pain],\n",
        "            'Imaging Results': [imaging_results],\n",
        "            'Abnormal Discharge': [abnormal_discharge],\n",
        "            'Irregular Periods': [irregular_periods],\n",
        "            'Dyspareunia': [dyspareunia],\n",
        "            'Dysuria': [dysuria],\n",
        "            'WBC Count': [wbc_count],\n",
        "            'ESR': [esr],\n",
        "            'CRP Level': [crp_level]\n",
        "        })\n",
        "\n",
        "        # Make prediction using the loaded pipeline\n",
        "        prediction = pipeline.predict(new_data)[0]\n",
        "        return prediction\n",
        "\n",
        "    # Test prediction\n",
        "    new_prediction = predict_pid(28, 'No', 'Yes', 'No', 'Normal (US)', 'None', 'Regular', 'No', 'No', 'Normal', 'Normal', 'Normal')\n",
        "    print(\"Predicted PID Diagnosis (1=Positive, 0=Negative):\", new_prediction)\n",
        "    if new_prediction == 0:\n",
        "        print(\"PID Negative\")\n",
        "    else:\n",
        "        print(\"PID Positive\")\n",
        "except Exception as e:\n",
        "    print(f\"Error loading model: {e}\")"
      ],
      "metadata": {
        "colab": {
          "base_uri": "https://localhost:8080/"
        },
        "id": "al54MQA81nQi",
        "outputId": "f5eedfb8-2f06-4385-aa1b-02a40012b4d7"
      },
      "execution_count": 58,
      "outputs": [
        {
          "output_type": "stream",
          "name": "stdout",
          "text": [
            "Model loaded successfully\n",
            "Predicted PID Diagnosis (1=Positive, 0=Negative): 0\n",
            "PID Negative\n"
          ]
        }
      ]
    },
    {
      "cell_type": "code",
      "source": [],
      "metadata": {
        "id": "DQdzwxwB1ncs"
      },
      "execution_count": null,
      "outputs": []
    },
    {
      "cell_type": "code",
      "source": [],
      "metadata": {
        "id": "r75V_iOo1nfk"
      },
      "execution_count": null,
      "outputs": []
    }
  ]
}